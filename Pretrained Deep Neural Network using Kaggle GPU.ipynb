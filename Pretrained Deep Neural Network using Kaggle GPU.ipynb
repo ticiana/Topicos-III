{
 "cells": [
  {
   "cell_type": "code",
   "execution_count": 2,
   "metadata": {
    "_cell_guid": "79c7e3d0-c299-4dcb-8224-4455121ee9b0",
    "_uuid": "d629ff2d2480ee46fbb7e2d37f6b5fab8052498a",
    "collapsed": false
   },
   "outputs": [
    {
     "name": "stderr",
     "output_type": "stream",
     "text": [
      "/opt/conda/lib/python3.6/site-packages/h5py/__init__.py:36: FutureWarning: Conversion of the second argument of issubdtype from `float` to `np.floating` is deprecated. In future, it will be treated as `np.float64 == np.dtype(float).type`.\n",
      "  from ._conv import register_converters as _register_converters\n",
      "Using TensorFlow backend.\n"
     ]
    }
   ],
   "source": [
    "import numpy as np # linear algebra\n",
    "import pandas as pd # data processing, CSV file I/O (e.g. pd.read_csv)\n",
    "from keras import layers\n",
    "from keras import models\n",
    "from keras.utils import to_categorical\n",
    "import matplotlib.pyplot as plt\n",
    "from os import listdir, makedirs\n",
    "from keras.preprocessing.image import ImageDataGenerator\n",
    "from keras.applications import VGG16\n",
    "from keras.models import Sequential\n",
    "from keras.layers import Dense, Flatten, Dropout\n",
    "from keras import optimizers, regularizers"
   ]
  },
  {
   "cell_type": "code",
   "execution_count": 3,
   "metadata": {
    "_uuid": "762b8f9fc182b15cf8682cffd98b70de3c71c1d2",
    "collapsed": false
   },
   "outputs": [
    {
     "name": "stdout",
     "output_type": "stream",
     "text": [
      "Found 22424 images belonging to 10 classes.\n"
     ]
    }
   ],
   "source": [
    "RESOLUTION = 150\n",
    "BATCH_SIZE=64\n",
    "\n",
    "train_datagen = ImageDataGenerator(\n",
    "        rescale=1./255,\n",
    "        shear_range=0.2,\n",
    "        zoom_range=0.2,\n",
    "        horizontal_flip=True,\n",
    "        validation_split=0.3)\n",
    "\n",
    "test_datagen = ImageDataGenerator(rescale=1./255)\n",
    "\n",
    "train_generator = train_datagen.flow_from_directory(\n",
    "        \"../input/state-farm-distracted-driver-detection/train/\",\n",
    "        target_size=(RESOLUTION, RESOLUTION),\n",
    "        batch_size=BATCH_SIZE,\n",
    "        class_mode='categorical')"
   ]
  },
  {
   "cell_type": "code",
   "execution_count": 4,
   "metadata": {
    "_uuid": "bda7d9ace7020e759530a2a0deada87685be5472",
    "collapsed": true
   },
   "outputs": [],
   "source": [
    "path = \"../input/keras-pretrained-models/vgg16_weights_tf_dim_ordering_tf_kernels_notop.h5\"\n",
    "conv_base = VGG16(include_top=False, input_shape=(150, 150, 3), weights=path) "
   ]
  },
  {
   "cell_type": "markdown",
   "metadata": {},
   "source": [
    "## Feature Extraction"
   ]
  },
  {
   "cell_type": "code",
   "execution_count": 5,
   "metadata": {
    "_uuid": "81c05b5d637809aec1615a26e538fed153e4de65",
    "collapsed": true
   },
   "outputs": [],
   "source": [
    "def vgg16_pretrained_model(model_vgg, dropout_=False, regularizer_=False, regularizer_weight=0.001):\n",
    "  \n",
    "    model = Sequential()\n",
    "    model.add(model_vgg)\n",
    "    model.add(Flatten())\n",
    "    if dropout_:\n",
    "        model.add(Dropout(0.5))\n",
    "    if regularizer_:\n",
    "        model.add(Dense(256, activation='relu', kernel_regularizer=regularizers.l1_l2(l1=regularizer_weight,\n",
    "                                                                                            l2=regularizer_weight)))\n",
    "    else:\n",
    "        model.add(Dense(256, activation='relu'))\n",
    "    model.add(Dense(10, activation='softmax'))\n",
    "    model.summary()\n",
    "    model.compile(loss='categorical_crossentropy', optimizer=optimizers.RMSprop(lr=1e-5), metrics=['acc'])\n",
    "\n",
    "    return model"
   ]
  },
  {
   "cell_type": "code",
   "execution_count": 6,
   "metadata": {
    "_uuid": "fc83bfce40c9c00c20c29298efcac813d4ce6310",
    "collapsed": false
   },
   "outputs": [
    {
     "name": "stdout",
     "output_type": "stream",
     "text": [
      "_________________________________________________________________\n",
      "Layer (type)                 Output Shape              Param #   \n",
      "=================================================================\n",
      "vgg16 (Model)                (None, 4, 4, 512)         14714688  \n",
      "_________________________________________________________________\n",
      "flatten_1 (Flatten)          (None, 8192)              0         \n",
      "_________________________________________________________________\n",
      "dense_1 (Dense)              (None, 256)               2097408   \n",
      "_________________________________________________________________\n",
      "dense_2 (Dense)              (None, 10)                2570      \n",
      "=================================================================\n",
      "Total params: 16,814,666\n",
      "Trainable params: 16,814,666\n",
      "Non-trainable params: 0\n",
      "_________________________________________________________________\n"
     ]
    }
   ],
   "source": [
    "model = vgg16_pretrained_model(conv_base, dropout_=False, regularizer_=False, regularizer_weight=0.001)"
   ]
  },
  {
   "cell_type": "code",
   "execution_count": null,
   "metadata": {
    "_uuid": "1b81c0dd1d4bf81793b06e797f9dafc3fdf4478c",
    "collapsed": true
   },
   "outputs": [],
   "source": [
    "history = model.fit_generator(\n",
    "        train_generator,\n",
    "        steps_per_epoch=200,\n",
    "        epochs=50)"
   ]
  },
  {
   "cell_type": "markdown",
   "metadata": {
    "_uuid": "acb09f6e55bfe944ed914b8a09e004da04ca6998",
    "collapsed": true
   },
   "source": [
    "## Fine Tunning"
   ]
  },
  {
   "cell_type": "code",
   "execution_count": null,
   "metadata": {
    "_uuid": "472e1d68df6e0ed61fa5859dfc4b31edc4ffd057",
    "collapsed": true
   },
   "outputs": [],
   "source": [
    "def build_vgg16_pretrained_fine_tunning(model_vgg, first_trainable_layer='block5_conv3',\n",
    "                                       with_dropout=False,\n",
    "                                       with_regularizer=False,\n",
    "                                       regularizer_weight=0.001):\n",
    "    set_trainable = False\n",
    "    for layer in model_vgg.layers:\n",
    "        if layer.name == first_trainable_layer:\n",
    "            set_trainable = True\n",
    "        if set_trainable:\n",
    "            layer.trainable = True\n",
    "        else:\n",
    "            layer.trainable = False\n",
    "    \n",
    "    model = Sequential()\n",
    "    model.add(model_vgg)\n",
    "    model.add(Flatten())\n",
    "    if with_dropout:\n",
    "        model.add(Dropout(0.5))\n",
    "    if with_regularizer:\n",
    "        model.add(Dense(256, activation='relu', kernel_regularizer=regularizers.l1_l2(l1=regularizer_weight,\n",
    "                                                                                            l2=regularizer_weight)))\n",
    "    else:\n",
    "        model.add(Dense(256, activation='relu'))\n",
    "    model.add(Dense(10, activation='softmax')) # for multiclass single-label classification\n",
    "    model.summary()\n",
    "    \n",
    "    model.compile(loss='categorical_crossentropy', optimizer=optimizers.RMSprop(lr=1e-5), metrics=['acc']) # low learn. rate\n",
    "    \n",
    "    return model"
   ]
  }
 ],
 "metadata": {
  "kernelspec": {
   "display_name": "Python 3",
   "language": "python",
   "name": "python3"
  },
  "language_info": {
   "codemirror_mode": {
    "name": "ipython",
    "version": 3
   },
   "file_extension": ".py",
   "mimetype": "text/x-python",
   "name": "python",
   "nbconvert_exporter": "python",
   "pygments_lexer": "ipython3",
   "version": "3.6.5"
  }
 },
 "nbformat": 4,
 "nbformat_minor": 1
}
